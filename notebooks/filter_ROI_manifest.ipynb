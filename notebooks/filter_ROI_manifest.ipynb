{
 "cells": [
  {
   "cell_type": "code",
   "execution_count": 4,
   "id": "a3b5d10f",
   "metadata": {},
   "outputs": [],
   "source": [
    "import json\n",
    "from pathlib import Path"
   ]
  },
  {
   "cell_type": "code",
   "execution_count": 19,
   "id": "e4a95ee1",
   "metadata": {},
   "outputs": [],
   "source": [
    "def filter_json_by_keys(input_filepath, output_filepath, keys_to_keep):\n",
    "    \"\"\"\n",
    "    Filters a JSON file, keeping only the specified top-level keys.\n",
    "\n",
    "    Args:\n",
    "        input_filepath (str): The path to the source JSON file.\n",
    "        output_filepath (str): The path where the filtered JSON file will be saved.\n",
    "        keys_to_keep (list): A list of strings, where each string is a key to\n",
    "                             retain from the original JSON object.\n",
    "    \"\"\"\n",
    "    try:\n",
    "        with input_filepath.open('r') as f:\n",
    "            data = json.load(f)\n",
    "\n",
    "        filtered_data = {}\n",
    "\n",
    "        for key in keys_to_keep:\n",
    "            if key in data:\n",
    "                filtered_data[key] = data[key]\n",
    "            else:\n",
    "                print(f\"Warning: Key '{key}' not found in the input file.\")\n",
    "        filtered_data[\"image_angle\"] = data[\"image_angle\"]\n",
    "\n",
    "        with output_filepath.open('w') as f:\n",
    "            json.dump(filtered_data, f, indent=4)\n",
    "\n",
    "        print(f\"Successfully filtered JSON to {len(filtered_data)} objects. Output saved to '{output_filepath}'\")\n",
    "\n",
    "    except FileNotFoundError:\n",
    "        print(f\"Error: The file '{input_filepath}' was not found.\")\n",
    "    except json.JSONDecodeError:\n",
    "        print(f\"Error: Could not decode JSON from the file '{input_filepath}'.\")\n",
    "    except Exception as e:\n",
    "        print(f\"An unexpected error occurred: {e}\")"
   ]
  },
  {
   "cell_type": "code",
   "execution_count": 17,
   "id": "20654ab0",
   "metadata": {},
   "outputs": [],
   "source": [
    "def format_ROI_label(ROIs_nums_to_keep):\n",
    "    ROIs_to_keep = []\n",
    "    letters = ['A', 'B']\n",
    "    directions = ['N', 'S']\n",
    "\n",
    "    for letter in letters:\n",
    "        for number in ROIs_nums_to_keep:\n",
    "            for direction in directions:\n",
    "                key = f\"ROI_{number:03d}{letter}_{direction}\"\n",
    "                ROIs_to_keep.append(key)\n",
    "    return(ROIs_to_keep)"
   ]
  },
  {
   "cell_type": "code",
   "execution_count": 20,
   "id": "39bee1e9",
   "metadata": {},
   "outputs": [
    {
     "name": "stdout",
     "output_type": "stream",
     "text": [
      "Warning: Key 'ROI_216A_N' not found in the input file.\n",
      "Warning: Key 'ROI_216A_S' not found in the input file.\n",
      "Warning: Key 'ROI_216B_N' not found in the input file.\n",
      "Warning: Key 'ROI_216B_S' not found in the input file.\n",
      "Successfully filtered JSON to 41 objects. Output saved to '/home/phorest/Documents/Python/phorest_pipeline/generated_files/ROI_manifest_Filtered.json'\n"
     ]
    }
   ],
   "source": [
    "input_filepath = Path(\"/\", \"home\", \"phorest\", \"Documents\", \"Python\", \"phorest_pipeline\", \"generated_files\", \"ROI_manifest.json\")\n",
    "output_filepath = Path(\"/\", \"home\", \"phorest\", \"Documents\", \"Python\", \"phorest_pipeline\", \"generated_files\", \"ROI_manifest_Filtered.json\")\n",
    "ROIs_nums_to_keep = [16, 36, 56, 76, 96, 116, 136, 156, 176, 196, 216]\n",
    "\n",
    "ROIs_to_keep = format_ROI_label(ROIs_nums_to_keep)\n",
    "filter_json_by_keys(input_filepath, output_filepath, ROIs_to_keep)"
   ]
  }
 ],
 "metadata": {
  "kernelspec": {
   "display_name": ".venv",
   "language": "python",
   "name": "python3"
  },
  "language_info": {
   "codemirror_mode": {
    "name": "ipython",
    "version": 3
   },
   "file_extension": ".py",
   "mimetype": "text/x-python",
   "name": "python",
   "nbconvert_exporter": "python",
   "pygments_lexer": "ipython3",
   "version": "3.12.10"
  }
 },
 "nbformat": 4,
 "nbformat_minor": 5
}
