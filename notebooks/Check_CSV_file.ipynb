{
 "cells": [
  {
   "cell_type": "code",
   "execution_count": 14,
   "id": "a3b5d10f",
   "metadata": {},
   "outputs": [
    {
     "name": "stdout",
     "output_type": "stream",
     "text": [
      "/Volumes/krauss/Lisa/GMR/Array/SpecialBox/Cuthbert/250723/data/metadata_manifest.json\n",
      "True\n",
      "/Volumes/krauss/Lisa/GMR/Array/SpecialBox/Cuthbert/250723/results_FULL/communicating_results_new.csv\n",
      "True\n",
      "/Volumes/krauss/Lisa/GMR/Array/SpecialBox/Cuthbert/250723/results_FULL/processing_results.jsonl\n",
      "True\n"
     ]
    }
   ],
   "source": [
    "import json\n",
    "from pathlib import Path\n",
    "\n",
    "import pandas as pd\n",
    "\n",
    "OG = Path('/Volumes/krauss/Lisa/GMR/Array/SpecialBox/Cuthbert/250723/data/metadata_manifest.json')\n",
    "# CSV = Path('/Volumes/krauss/Lisa/GMR/Array/SpecialBox/Cuthbert/250723/results_FULL/communicating_results.csv')\n",
    "CSV = Path('/Volumes/krauss/Lisa/GMR/Array/SpecialBox/Cuthbert/250723/results_FULL/communicating_results_new.csv')\n",
    "CSV_NEW = Path('/Volumes/krauss/Lisa/GMR/Array/SpecialBox/Cuthbert/250723/results_FULL/communicating_results_new.csv')\n",
    "JSONL = Path('/Volumes/krauss/Lisa/GMR/Array/SpecialBox/Cuthbert/250723/results_FULL/processing_results.jsonl')\n",
    "\n",
    "print(OG)\n",
    "print(OG.is_file())\n",
    "print(CSV)\n",
    "print(CSV.is_file())\n",
    "print(JSONL)\n",
    "print(JSONL.is_file())"
   ]
  },
  {
   "cell_type": "code",
   "execution_count": 15,
   "id": "ffc04729",
   "metadata": {},
   "outputs": [
    {
     "name": "stdout",
     "output_type": "stream",
     "text": [
      "Found 1225 rows where 'ROI-label' is '002A_N'.\n",
      "Total number of rows in the file: 788900\n",
      "Number of unique entries in column 'ROI-label': 644\n",
      "The file '/Volumes/krauss/Lisa/GMR/Array/SpecialBox/Cuthbert/250723/results_FULL/processing_results.jsonl' contains 175 lines.\n"
     ]
    }
   ],
   "source": [
    "column_to_search = 'ROI-label'\n",
    "\n",
    "text_to_find = '002A_N'\n",
    "\n",
    "try:\n",
    "    df = pd.read_csv(CSV)\n",
    "\n",
    "    matching_rows = df[df[column_to_search] == text_to_find]\n",
    "\n",
    "    count = len(matching_rows)\n",
    "\n",
    "    print(f\"Found {count} rows where '{column_to_search}' is '{text_to_find}'.\")\n",
    "\n",
    "    total_rows = len(df)\n",
    "\n",
    "    unique_entries_count = df[column_to_search].nunique()\n",
    "\n",
    "    print(f\"Total number of rows in the file: {total_rows}\")\n",
    "    print(f\"Number of unique entries in column '{column_to_search}': {unique_entries_count}\")\n",
    "\n",
    "    line_count = 0\n",
    "    with JSONL.open('r') as f:\n",
    "        for line in f:\n",
    "            line_count += 1\n",
    "\n",
    "    print(f\"The file '{JSONL}' contains {line_count} lines.\")\n",
    "\n",
    "\n",
    "except FileNotFoundError:\n",
    "    print(f\"Error: The file '{CSV}' was not found.\")\n",
    "except KeyError:\n",
    "    print(f\"Error: The column '{column_to_search}' was not found in the CSV file.\")\n",
    "except Exception as e:\n",
    "    print(f\"An unexpected error occurred: {e}\")"
   ]
  },
  {
   "cell_type": "code",
   "execution_count": 13,
   "id": "6689372e",
   "metadata": {},
   "outputs": [
    {
     "name": "stdout",
     "output_type": "stream",
     "text": [
      "Parsing 'processing_results.jsonl' as JSON Lines.\n",
      "Parsing 175 entries to create CSV...\n",
      "Successfully saved CSV to /Volumes/krauss/Lisa/GMR/Array/SpecialBox/Cuthbert/250723/results_FULL/communicating_results_new.csv (under lock).\n"
     ]
    }
   ],
   "source": [
    "\"\"\"\n",
    "Combines data from the data manifest and the results manifest to create a CSV.\n",
    "\"\"\"\n",
    "try:\n",
    "    with JSONL.open(\"r\") as f:\n",
    "        print(f\"Parsing '{JSONL.name}' as JSON Lines.\")\n",
    "        results_data = []\n",
    "        for line in f:\n",
    "            if line.strip():\n",
    "                results_data.append(json.loads(line))\n",
    "\n",
    "    results_map = {\n",
    "        entry.get(\"image_filename\"): entry \n",
    "        for entry in results_data if entry.get(\"image_filename\")\n",
    "    }\n",
    "except Exception as e:\n",
    "    print(f\"Could not load or parse results manifest: {e}\", exc_info=True)\n",
    "\n",
    "print(f\"Parsing {len(results_data)} entries to create CSV...\")\n",
    "records = []\n",
    "\n",
    "for entry in results_data:\n",
    "\n",
    "    filename = entry.get(\"image_filename\")\n",
    "    result_entry = results_map.get(filename)\n",
    "\n",
    "    if not result_entry:\n",
    "        print(f\"No matching result found for processed image: {filename}. Skipping entry.\")\n",
    "        continue\n",
    "\n",
    "    timestamp = result_entry.get(\"image_timestamp\")\n",
    "    image_analysis = result_entry.get(\"image_analysis\")\n",
    "\n",
    "    headers = []\n",
    "    if not headers:\n",
    "        for item in image_analysis:\n",
    "            if \"ROI-label\" in item:\n",
    "                headers = list(item.keys())\n",
    "                break\n",
    "    \n",
    "    for analysis_item in image_analysis:\n",
    "        if \"ROI-label\" in analysis_item:\n",
    "            record = {\"timestamp\": timestamp}\n",
    "            for field in headers:\n",
    "                value = analysis_item.get(field)\n",
    "                if isinstance(value, dict):\n",
    "                    value = value.get(\"Median\")\n",
    "                record[field] = value\n",
    "                \n",
    "                records.append(record)\n",
    "\n",
    "if not records:\n",
    "    print(\"No valid records found to generate a CSV file. Skipping.\")\n",
    "\n",
    "# Create the DataFrame\n",
    "df = pd.DataFrame(records)\n",
    "try:\n",
    "    df.to_csv(CSV_NEW, index=False)\n",
    "    print(f\"Successfully saved CSV to {CSV_NEW} (under lock).\")\n",
    "except Exception as e:\n",
    "    print(f\"Failed to save CSV file under lock at {CSV_NEW}: {e}\", exc_info=True)"
   ]
  }
 ],
 "metadata": {
  "kernelspec": {
   "display_name": "phorest-pipeline",
   "language": "python",
   "name": "python3"
  },
  "language_info": {
   "codemirror_mode": {
    "name": "ipython",
    "version": 3
   },
   "file_extension": ".py",
   "mimetype": "text/x-python",
   "name": "python",
   "nbconvert_exporter": "python",
   "pygments_lexer": "ipython3",
   "version": "3.12.10"
  }
 },
 "nbformat": 4,
 "nbformat_minor": 5
}
