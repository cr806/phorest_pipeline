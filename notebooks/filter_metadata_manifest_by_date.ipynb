{
 "cells": [
  {
   "cell_type": "code",
   "execution_count": 3,
   "id": "a3b5d10f",
   "metadata": {},
   "outputs": [
    {
     "name": "stdout",
     "output_type": "stream",
     "text": [
      "/mnt/storage/Lisa/GMR/Array/Speed_Test/Ethanol_steps/10_mLmin-1/ethanol_step_10_1/Pos0_Flipped\n",
      "metadata_manifest.json\n"
     ]
    }
   ],
   "source": [
    "import json\n",
    "from pathlib import Path\n",
    "import datetime\n",
    "\n",
    "from phorest_pipeline.shared.config import DATA_DIR, METADATA_FILENAME\n",
    "\n",
    "print(DATA_DIR)\n",
    "print(METADATA_FILENAME)"
   ]
  },
  {
   "cell_type": "code",
   "execution_count": null,
   "id": "e4a95ee1",
   "metadata": {},
   "outputs": [],
   "source": [
    "def filter_manifest_by_date(input_filepath: Path, output_filepath: Path, start_time_str: str, end_time_str: str):\n",
    "    \"\"\"\n",
    "    Sets the 'processing_status' to 'pending' for entries within a specified time window.\n",
    "\n",
    "    Iterates through the manifest and for any entry whose `camera_data.timestamp_iso`\n",
    "    falls within the start and end times, it will set the status to 'pending',\n",
    "    unless it has already been 'processed'. Entries outside the window are not changed.\n",
    "\n",
    "    Args:\n",
    "        input_filepath (Path): The path to the source manifest JSON file.\n",
    "        output_filepath (Path): The path where the modified JSON file will be saved.\n",
    "        start_time_str (str): The start of the time window in ISO 8601 format (e.g., \"2025-08-01T12:00:00\").\n",
    "        end_time_str (str): The end of the time window in ISO 8601 format.\n",
    "    \"\"\"\n",
    "    try:\n",
    "        start_time = datetime.datetime.fromisoformat(start_time_str)\n",
    "        end_time = datetime.datetime.fromisoformat(end_time_str)\n",
    "\n",
    "        with input_filepath.open('r') as f:\n",
    "            data = json.load(f)\n",
    "\n",
    "        if not isinstance(data, list):\n",
    "            print(\"Error: Input JSON is not a list of entries.\")\n",
    "            return\n",
    "\n",
    "        modified_count = 0\n",
    "        for entry in data:\n",
    "            camera_data = entry.get(\"camera_data\", {})\n",
    "            if not camera_data: continue\n",
    "            \n",
    "            timestamp_iso = camera_data.get(\"timestamp_iso\")\n",
    "            if not timestamp_iso: continue\n",
    "\n",
    "            entry_time = datetime.datetime.fromisoformat(timestamp_iso)\n",
    "            if start_time <= entry_time <= end_time:\n",
    "                if entry.get(\"processing_status\") != \"processed\":\n",
    "                    entry[\"processing_status\"] = \"pending\"\n",
    "                    modified_count += 1\n",
    "        \n",
    "        with output_filepath.open('w') as f:\n",
    "            json.dump(data, f, indent=4)\n",
    "\n",
    "        print(f\"Successfully modified '{input_filepath.name}'.\")\n",
    "        print(f\"{modified_count} entries within the time window were set to 'pending'.\")\n",
    "        print(f\"Output saved to '{output_filepath.name}'\")\n",
    "\n",
    "    except FileNotFoundError:\n",
    "        print(f\"Error: The file '{input_filepath}' was not found.\")\n",
    "    except json.JSONDecodeError:\n",
    "        print(f\"Error: Could not decode JSON from the file '{input_filepath}'.\")\n",
    "    except ValueError as e:\n",
    "        print(f\"Error: Invalid date format. Please use ISO 8601 format (e.g., YYYY-MM-DDTHH:MM:SS). Details: {e}\")\n",
    "    except Exception as e:\n",
    "        print(f\"An unexpected error occurred: {e}\")"
   ]
  },
  {
   "cell_type": "code",
   "execution_count": null,
   "id": "39bee1e9",
   "metadata": {},
   "outputs": [
    {
     "name": "stdout",
     "output_type": "stream",
     "text": [
      "Successfully modified 'metadata_manifest_FULL_FILTERED.json'.\n",
      "30 entries within the time window were set to 'pending'.\n",
      "Output saved to 'metadata_manifest_FULL_FILTERED_FILTERED.json'\n"
     ]
    }
   ],
   "source": [
    "input_filepath = Path(DATA_DIR, METADATA_FILENAME)\n",
    "output_filepath = Path(DATA_DIR, f\"{input_filepath.stem}_FILTERED{input_filepath.suffix}\")\n",
    "\n",
    "start = \"2025-08-01T12:25:00\"\n",
    "end = \"2025-08-01T12:26:00\"\n",
    "\n",
    "filter_manifest_by_date(input_filepath, output_filepath, start, end)"
   ]
  }
 ],
 "metadata": {
  "kernelspec": {
   "display_name": ".venv",
   "language": "python",
   "name": "python3"
  },
  "language_info": {
   "codemirror_mode": {
    "name": "ipython",
    "version": 3
   },
   "file_extension": ".py",
   "mimetype": "text/x-python",
   "name": "python",
   "nbconvert_exporter": "python",
   "pygments_lexer": "ipython3",
   "version": "3.12.10"
  }
 },
 "nbformat": 4,
 "nbformat_minor": 5
}
