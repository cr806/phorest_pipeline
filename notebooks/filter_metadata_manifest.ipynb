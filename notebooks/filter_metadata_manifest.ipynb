{
 "cells": [
  {
   "cell_type": "code",
   "execution_count": 1,
   "id": "a3b5d10f",
   "metadata": {},
   "outputs": [],
   "source": [
    "import json\n",
    "from pathlib import Path\n",
    "\n",
    "from phorest_pipeline.shared.config import DATA_DIR, METADATA_FILENAME"
   ]
  },
  {
   "cell_type": "code",
   "execution_count": 2,
   "id": "3e4017c0",
   "metadata": {},
   "outputs": [
    {
     "name": "stdout",
     "output_type": "stream",
     "text": [
      "/mnt/storage/Lisa/GMR/Array/Speed_Test/Ethanol_steps/100_uLmin-1/ethanol_step_50_1/Pos0_Flipped\n",
      "metadata_manifest.json\n"
     ]
    }
   ],
   "source": [
    "print(DATA_DIR)\n",
    "print(METADATA_FILENAME)"
   ]
  },
  {
   "cell_type": "code",
   "execution_count": 3,
   "id": "e4a95ee1",
   "metadata": {},
   "outputs": [],
   "source": [
    "def filter_manifest_by_skip(input_filepath: Path, output_filepath: Path, skip_step: int):\n",
    "    \"\"\"\n",
    "    Filters a manifest file by setting the 'processing_status' of entries to 'skip'.\n",
    "\n",
    "    It processes the list of entries and marks every Nth item to remain 'pending',\n",
    "    while all others are marked as 'skip'.\n",
    "\n",
    "    Args:\n",
    "        input_filepath (Path): The path to the source manifest JSON file.\n",
    "        output_filepath (Path): The path where the filtered JSON file will be saved.\n",
    "        skip_step (int): The step value. For example, a step of 10 will keep\n",
    "                         every 10th entry as 'pending'.\n",
    "    \"\"\"\n",
    "    if skip_step <= 0:\n",
    "        print(\"Error: 'skip' parameter must be a positive integer.\")\n",
    "        return\n",
    "\n",
    "    try:\n",
    "        with input_filepath.open('r') as f:\n",
    "            data = json.load(f)\n",
    "\n",
    "        if not isinstance(data, list):\n",
    "            print(\"Error: Input JSON is not a list of entries.\")\n",
    "            return\n",
    "\n",
    "        processed_count = 0\n",
    "        for index, entry in enumerate(data):\n",
    "            if isinstance(entry, dict) and \"processing_status\" in entry:\n",
    "                if (index + 1) % skip_step != 0:\n",
    "                    entry[\"processing_status\"] = \"skip\"\n",
    "                else:\n",
    "                    processed_count += 1\n",
    "        \n",
    "        with output_filepath.open('w') as f:\n",
    "            json.dump(data, f, indent=4)\n",
    "\n",
    "        print(f\"Successfully filtered '{input_filepath.name}'.\")\n",
    "        print(f\"{processed_count} entries are marked to be processed.\")\n",
    "        print(f\"Output saved to '{output_filepath.name}'\")\n",
    "\n",
    "    except FileNotFoundError:\n",
    "        print(f\"Error: The file '{input_filepath}' was not found.\")\n",
    "    except json.JSONDecodeError:\n",
    "        print(f\"Error: Could not decode JSON from the file '{input_filepath}'.\")\n",
    "    except Exception as e:\n",
    "        print(f\"An unexpected error occurred: {e}\")"
   ]
  },
  {
   "cell_type": "code",
   "execution_count": 4,
   "id": "39bee1e9",
   "metadata": {},
   "outputs": [
    {
     "name": "stdout",
     "output_type": "stream",
     "text": [
      "Successfully filtered 'metadata_manifest.json'.\n",
      "415 entries are marked to be processed.\n",
      "Output saved to 'metadata_manifest_FILTERED.json'\n"
     ]
    }
   ],
   "source": [
    "input_filepath = Path(DATA_DIR, METADATA_FILENAME)\n",
    "output_filepath = Path(DATA_DIR, f\"{input_filepath.stem}_FILTERED{input_filepath.suffix}\")\n",
    "\n",
    "skip_every = 15\n",
    "\n",
    "filter_manifest_by_skip(input_filepath, output_filepath, skip_every)"
   ]
  }
 ],
 "metadata": {
  "kernelspec": {
   "display_name": ".venv",
   "language": "python",
   "name": "python3"
  },
  "language_info": {
   "codemirror_mode": {
    "name": "ipython",
    "version": 3
   },
   "file_extension": ".py",
   "mimetype": "text/x-python",
   "name": "python",
   "nbconvert_exporter": "python",
   "pygments_lexer": "ipython3",
   "version": "3.12.10"
  }
 },
 "nbformat": 4,
 "nbformat_minor": 5
}
